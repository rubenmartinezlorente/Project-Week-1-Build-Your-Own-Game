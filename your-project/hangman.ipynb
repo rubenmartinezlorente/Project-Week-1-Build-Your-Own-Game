{
 "cells": [
  {
   "cell_type": "code",
   "execution_count": 91,
   "metadata": {},
   "outputs": [
    {
     "name": "stdout",
     "output_type": "stream",
     "text": [
      "Welcome to the hangman game \n",
      "1st rule: secret names are 1-word. \n",
      "2nd rule: all secret names are low case\n"
     ]
    }
   ],
   "source": [
    "###ONBOARDING AND GIVE THE SECRET WORD \n",
    "import re\n",
    "\n",
    "print('Welcome to the hangman game \\n1st rule: secret names are 1-word. \\n2nd rule: all secret names are low case')\n",
    "\n"
   ]
  },
  {
   "cell_type": "code",
   "execution_count": 98,
   "metadata": {},
   "outputs": [
    {
     "data": {
      "text/plain": [
       "<re.Match object; span=(0, 3), match='boy'>"
      ]
     },
     "execution_count": 98,
     "metadata": {},
     "output_type": "execute_result"
    }
   ],
   "source": [
    "re.match('^\\w+\\w$', 'boy')"
   ]
  },
  {
   "cell_type": "code",
   "execution_count": 117,
   "metadata": {},
   "outputs": [
    {
     "name": "stdout",
     "output_type": "stream",
     "text": [
      "MASTER GAME, please give me a secret word: TERE\n"
     ]
    }
   ],
   "source": [
    "###GIVE ME A SECRET WORD\n",
    "\n",
    "m = input('MASTER GAME, please give me a secret word: ')\n",
    "m = m.lower()\n",
    "#print(m)\n",
    "#print(re.findall('^\\w+\\w$',m))\n",
    "while re.match('^[a-z]+$',m) ==  None:\n",
    "    m = input('MASTER GAME, please give me A GOOD secret word : ')\n",
    "    m = m.lower() "
   ]
  },
  {
   "cell_type": "code",
   "execution_count": 123,
   "metadata": {},
   "outputs": [
    {
     "name": "stdout",
     "output_type": "stream",
     "text": [
      "What is the range of difficuty you want? \n",
      " Press (1)Easy mode, (2) Normal mode, (3) Ironhacker mode:4\n"
     ]
    },
    {
     "ename": "TypeError",
     "evalue": "expected string or bytes-like object",
     "output_type": "error",
     "traceback": [
      "\u001b[0;31m---------------------------------------------------------------------------\u001b[0m",
      "\u001b[0;31mTypeError\u001b[0m                                 Traceback (most recent call last)",
      "\u001b[0;32m<ipython-input-123-742dd7e4ade8>\u001b[0m in \u001b[0;36m<module>\u001b[0;34m\u001b[0m\n\u001b[1;32m      3\u001b[0m \u001b[0;34m\u001b[0m\u001b[0m\n\u001b[1;32m      4\u001b[0m \u001b[0mdifficulty\u001b[0m \u001b[0;34m=\u001b[0m \u001b[0mint\u001b[0m\u001b[0;34m(\u001b[0m\u001b[0minput\u001b[0m\u001b[0;34m(\u001b[0m\u001b[0;34m'What is the range of difficuty you want? \\n Press (1)Easy mode, (2) Normal mode, (3) Ironhacker mode:'\u001b[0m\u001b[0;34m)\u001b[0m\u001b[0;34m)\u001b[0m\u001b[0;34m\u001b[0m\u001b[0;34m\u001b[0m\u001b[0m\n\u001b[0;32m----> 5\u001b[0;31m \u001b[0;32mwhile\u001b[0m \u001b[0mre\u001b[0m\u001b[0;34m.\u001b[0m\u001b[0mmatch\u001b[0m\u001b[0;34m(\u001b[0m\u001b[0;34m'[1-3]'\u001b[0m\u001b[0;34m,\u001b[0m\u001b[0mdifficulty\u001b[0m\u001b[0;34m)\u001b[0m \u001b[0;34m==\u001b[0m \u001b[0;32mNone\u001b[0m\u001b[0;34m:\u001b[0m\u001b[0;34m\u001b[0m\u001b[0;34m\u001b[0m\u001b[0m\n\u001b[0m\u001b[1;32m      6\u001b[0m     \u001b[0mdifficulty\u001b[0m \u001b[0;34m=\u001b[0m \u001b[0mint\u001b[0m\u001b[0;34m(\u001b[0m\u001b[0minput\u001b[0m\u001b[0;34m(\u001b[0m\u001b[0;34m'Give me a correct level of difficulty\\n Press (1)Easy mode, (2) Normal mode, (3) Ironhacker mode:'\u001b[0m\u001b[0;34m)\u001b[0m\u001b[0;34m)\u001b[0m\u001b[0;34m\u001b[0m\u001b[0;34m\u001b[0m\u001b[0m\n",
      "\u001b[0;32m/anaconda3/lib/python3.7/re.py\u001b[0m in \u001b[0;36mmatch\u001b[0;34m(pattern, string, flags)\u001b[0m\n\u001b[1;32m    171\u001b[0m     \"\"\"Try to apply the pattern at the start of the string, returning\n\u001b[1;32m    172\u001b[0m     a Match object, or None if no match was found.\"\"\"\n\u001b[0;32m--> 173\u001b[0;31m     \u001b[0;32mreturn\u001b[0m \u001b[0m_compile\u001b[0m\u001b[0;34m(\u001b[0m\u001b[0mpattern\u001b[0m\u001b[0;34m,\u001b[0m \u001b[0mflags\u001b[0m\u001b[0;34m)\u001b[0m\u001b[0;34m.\u001b[0m\u001b[0mmatch\u001b[0m\u001b[0;34m(\u001b[0m\u001b[0mstring\u001b[0m\u001b[0;34m)\u001b[0m\u001b[0;34m\u001b[0m\u001b[0;34m\u001b[0m\u001b[0m\n\u001b[0m\u001b[1;32m    174\u001b[0m \u001b[0;34m\u001b[0m\u001b[0m\n\u001b[1;32m    175\u001b[0m \u001b[0;32mdef\u001b[0m \u001b[0mfullmatch\u001b[0m\u001b[0;34m(\u001b[0m\u001b[0mpattern\u001b[0m\u001b[0;34m,\u001b[0m \u001b[0mstring\u001b[0m\u001b[0;34m,\u001b[0m \u001b[0mflags\u001b[0m\u001b[0;34m=\u001b[0m\u001b[0;36m0\u001b[0m\u001b[0;34m)\u001b[0m\u001b[0;34m:\u001b[0m\u001b[0;34m\u001b[0m\u001b[0;34m\u001b[0m\u001b[0m\n",
      "\u001b[0;31mTypeError\u001b[0m: expected string or bytes-like object"
     ]
    }
   ],
   "source": [
    "###GIVE ME THE LEVEL OF DIFFICULTY\n",
    "import re\n",
    "\n",
    "difficulty = int(input('What is the range of difficuty you want? \\n Press (1)Easy mode, (2) Normal mode, (3) Ironhacker mode:'))    \n",
    "while re.match('[^[1-3]$',difficulty) == None:\n",
    "    difficulty = int(input('Give me a correct level of difficulty\\n Press (1)Easy mode, (2) Normal mode, (3) Ironhacker mode:'))"
   ]
  },
  {
   "cell_type": "code",
   "execution_count": 32,
   "metadata": {},
   "outputs": [
    {
     "name": "stdout",
     "output_type": "stream",
     "text": [
      "3\n"
     ]
    }
   ],
   "source": [
    "##DEFINITION DIFFICULT ODE:\n",
    "##DEAD BODY TO COUNT THE MISTAKES.\n",
    "if difficulty == 1\n",
    "    mistakes = 2*len(m) #define the maximum number of mistakes possibles according the lenght of the word.\n",
    "elif difficulty == 2:\n",
    "    mistakes = len(m)\n",
    "else:\n",
    "    mistakes = len(m)/2"
   ]
  },
  {
   "cell_type": "code",
   "execution_count": 54,
   "metadata": {},
   "outputs": [
    {
     "name": "stdout",
     "output_type": "stream",
     "text": [
      "[('b', 0), ('o', 1), ('b', 2)]\n",
      "b\n",
      "o\n",
      "b\n"
     ]
    }
   ],
   "source": [
    "##DICTIONARY\n",
    "orden = range(len(m))\n",
    "di = list(zip(m,orden))\n",
    "print(di)\n",
    "for i in range(len(di)):\n",
    "    print(di[i][0])"
   ]
  },
  {
   "cell_type": "code",
   "execution_count": 51,
   "metadata": {},
   "outputs": [
    {
     "name": "stdout",
     "output_type": "stream",
     "text": [
      "['*', '*', '*']\n"
     ]
    }
   ],
   "source": [
    "##DEFINITOS VALUES\n",
    "rounds = 0               #Declaration of # of rounds. Useful to know how the man is hang.\n",
    "count_mistakes = 0       #Declaration of a counter the mistakes. When player will reach the maximum (pieces of deadbody), game is over.\n",
    "strings =[]              #Empty list where we add the letters player guesses.\n",
    "\n",
    "\n",
    "mystery = ['*' for i in range(len(m))]\n",
    "print(mystery)"
   ]
  },
  {
   "cell_type": "code",
   "execution_count": 56,
   "metadata": {},
   "outputs": [
    {
     "name": "stdout",
     "output_type": "stream",
     "text": [
      "Give me a letter and let'see if match with our secret word: b\n",
      "b 0\n",
      "o 1\n",
      "b 2\n",
      "STATUS: ['b', '*', 'b']\n",
      "very well, you guess one letter\n",
      "You are in the 0 round, you have 0 from 3 mistakes \n",
      "\n",
      "\n",
      "\n",
      "\n",
      "\n",
      "\n",
      "Give me a letter and let'see if match with our secret word: o\n",
      "b 0\n",
      "o 1\n",
      "b 2\n",
      "STATUS: ['b', 'o', 'b']\n",
      "You win the game, CONGRATULATIONS!!!\n"
     ]
    }
   ],
   "source": [
    "##PLAY THE GAME\n",
    "while (True):\n",
    "        letter = input(\"Give me a letter and let'see if match with our secret word: \")\n",
    "        count = 0 #how many letters you guess in each round. this count re-start to zero for each round (each new letter)\n",
    "\n",
    "        \n",
    "        \n",
    "            ###Check if our letter is in the secret word\n",
    "        for i in range(len(di)):\n",
    "            print(di[i][0],i)\n",
    "            if letter == di[i][0]:\n",
    "                mystery[di[i][1]] = letter\n",
    "                count += 1\n",
    "                pass\n",
    "        if count > 0:                           #There is one or more places in the secret word where letter matches\n",
    "            word = ''.join(mystery)\n",
    "            print(f'STATUS: {mystery}')\n",
    "            if word != m:\n",
    "                print(\"very well, you guess one letter\")\n",
    "            else:\n",
    "                print('You win the game, CONGRATULATIONS!!!')\n",
    "                break\n",
    "        else:                                  #There is no place in the secret word with the letter.\n",
    "            count_mistakes += 1\n",
    "            print(f'STATUS: {mystery}')\n",
    "            print(f\"this letter doesn't match with our secret word...sorry buddy!!, you have {count_mistakes} mistakes\")\n",
    "            rounds += 1                        #We add a mistake in the #rounds if player wrongs.\n",
    "        print(f'You are in the {rounds} round, you have {count_mistakes} from {mistakes} mistakes \\n\\n\\n\\n\\n\\n')\n",
    "        \n",
    "        if rounds >= mistakes:                  #Check if you have the same or more mistakes than the allowed ones (dead body's pieces)\n",
    "            print('You have been hang buddy....RIP')\n",
    "            break\n"
   ]
  },
  {
   "cell_type": "raw",
   "metadata": {},
   "source": [
    "mystery = '*'*len(m)\n",
    "print(mystery)"
   ]
  },
  {
   "cell_type": "code",
   "execution_count": 7,
   "metadata": {},
   "outputs": [
    {
     "name": "stdout",
     "output_type": "stream",
     "text": [
      "['jhrhk']\n",
      "no\n",
      "jhrhk\n",
      "yes\n"
     ]
    }
   ],
   "source": [
    "strings = 'jhrhk'\n",
    "a = strings.split()\n",
    "print(a)\n",
    "temporal_word =('pnmh')\n",
    "la ='pnmh'\n",
    "if strings==temporal_word:\n",
    "    print('yes')\n",
    "    print(strings)\n",
    "else:\n",
    "    print('no')\n",
    "    print(strings)    \n",
    "if la==temporal_word:\n",
    "    print('yes')\n",
    "else:\n",
    "    print('no')"
   ]
  },
  {
   "cell_type": "code",
   "execution_count": 8,
   "metadata": {},
   "outputs": [
    {
     "name": "stdout",
     "output_type": "stream",
     "text": [
      "['r', 's']\n",
      "rs\n"
     ]
    }
   ],
   "source": [
    "p = ['r','s']\n",
    "print(p)\n",
    "\n",
    "t = ''.join(p)    # Union of all letters in a string to compare with the secret word\n",
    "print(t)"
   ]
  },
  {
   "cell_type": "code",
   "execution_count": 9,
   "metadata": {},
   "outputs": [
    {
     "name": "stdout",
     "output_type": "stream",
     "text": [
      "{0: 'h', 1: 'o', 2: 'l', 3: 'a'}\n"
     ]
    },
    {
     "data": {
      "text/plain": [
       "dict"
      ]
     },
     "execution_count": 9,
     "metadata": {},
     "output_type": "execute_result"
    }
   ],
   "source": [
    "strings = ['c', 's']\n",
    "b ='hola'\n",
    "#b =strings.split()\n",
    "#b = list(strings)\n",
    "print(dict(enumerate(b)))\n",
    "c = dict(enumerate(b))\n",
    "type(c)"
   ]
  },
  {
   "cell_type": "code",
   "execution_count": null,
   "metadata": {},
   "outputs": [],
   "source": []
  }
 ],
 "metadata": {
  "file_extension": ".py",
  "kernelspec": {
   "display_name": "Python 3",
   "language": "python",
   "name": "python3"
  },
  "language_info": {
   "codemirror_mode": {
    "name": "ipython",
    "version": 3
   },
   "file_extension": ".py",
   "mimetype": "text/x-python",
   "name": "python",
   "nbconvert_exporter": "python",
   "pygments_lexer": "ipython3",
   "version": "3.7.3"
  },
  "mimetype": "text/x-python",
  "name": "python",
  "npconvert_exporter": "python",
  "pygments_lexer": "ipython3",
  "version": 3
 },
 "nbformat": 4,
 "nbformat_minor": 2
}
